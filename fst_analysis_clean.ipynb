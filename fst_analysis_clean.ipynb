{
 "cells": [
  {
   "cell_type": "code",
   "execution_count": null,
   "metadata": {},
   "outputs": [],
   "source": [
    "import pandas as pd\n",
    "import os\n",
    "import numpy as np\n",
    "import argparse\n",
    "import seaborn as sns\n",
    "from matplotlib import pyplot as plt\n",
    "%matplotlib inline\n",
    "import functools\n",
    "import urllib\n",
    "import urllib.request\n",
    "from multiprocessing.dummy import Pool as ThreadPool \n",
    "sns.set(style='darkgrid', context='talk')\n"
   ]
  },
  {
   "cell_type": "code",
   "execution_count": null,
   "metadata": {},
   "outputs": [],
   "source": [
    "\"\"\"Get 100kb window fst files\"\"\"\n",
    "data_dir = '/Users/home/data'\n",
    "fst_files = []\n",
    "for file in os.listdir(data_dir '/fst_calc/'):\n",
    "    if file.endswith(\"_all_100kb.windowed.weir.fst\"):\n",
    "        base=os.path.basename(file)\n",
    "        #print(base.split('.')[0])\n"
   ]
  },
  {
   "cell_type": "code",
   "execution_count": null,
   "metadata": {},
   "outputs": [],
   "source": [
    "\"\"\"Calculate values which we will set as high, intermediate, and low fst value for each of the location comparisons\"\"\"\n",
    "fst_dict = {}\n",
    "def calculate_outliers(fst_files):\n",
    "    for file in fst_files:\n",
    "        fst_dict[file] = pd.read_csv(data_dir + 'fst_calc/' + file + '.windowed.weir.fst', sep='\\t') \n",
    "        fst_dict[file]['pos_mean'] = np.where(fst_dict[file]['MEAN_FST'] <= 0, 0, fst_dict[file]['MEAN_FST'])\n",
    "        ninety_nine = fst_dict[file]['pos_mean'].quantile(0.99)\n",
    "        ninety_five = fst_dict[file]['pos_mean'].quantile(0.95)\n",
    "        print(ninety_nine)\n",
    "        fst_dict[file]['outlier'] = np.where(fst_dict[file]['pos_mean'] > ninety_five, 'intermediate', 'low') \n",
    "        fst_dict[file]['outlier'] = np.where(fst_dict[file]['pos_mean'] > ninety_nine, 'high', fst_dict[file]['outlier'])\n",
    "        fst_dict[file]['location'] = file\n",
    "    return fst_dict\n",
    "\n",
    "fst_dict = calculate_outliers(fst_files)\n"
   ]
  },
  {
   "cell_type": "code",
   "execution_count": null,
   "metadata": {},
   "outputs": [],
   "source": [
    "weighted_fst_dict = {}\n",
    "def calculate_outliers(fst_files):\n",
    "    for file in fst_files:\n",
    "        weighted_fst_dict[file] = pd.read_csv(data_dir + 'fst_calc/' + file + '.windowed.weir.fst', sep='\\t') \n",
    "        weighted_fst_dict[file]['weighted_pos'] = np.where(weighted_fst_dict[file]['WEIGHTED_FST'] <= 0, 0, weighted_fst_dict[file]['WEIGHTED_FST'])\n",
    "        stdev = np.std(weighted_fst_dict[file]['weighted_pos'])\n",
    "        mean = np.mean(weighted_fst_dict[file]['weighted_pos'])\n",
    "        print(file, mean)\n",
    "        weighted_fst_dict[file]['sdev_outlier'] = np.where(weighted_fst_dict[file]['weighted_pos'] > (mean + 3*stdev), 'intermediate', 'low')\n",
    "        weighted_fst_dict[file]['sdev_outlier'] = np.where(weighted_fst_dict[file]['weighted_pos'] > (mean + 5*stdev), 'high', weighted_fst_dict[file]['sdev_outlier'])\n",
    "        weighted_fst_dict[file]['location'] = file\n",
    "    return weighted_fst_dict\n",
    "\n",
    "weighted_fst_dict = calculate_outliers(fst_files)"
   ]
  },
  {
   "cell_type": "code",
   "execution_count": null,
   "metadata": {},
   "outputs": [],
   "source": [
    "def combine_outliers(fst_dict):\n",
    "    outlier_dict = {}\n",
    "    for key in fst_dict:\n",
    "        ninety_five = fst_dict[key]['pos_mean'].quantile(0.95)\n",
    "        outlier_dict[key] = fst_dict[key][fst_dict[key]['pos_mean'] > ninety_five]\n",
    "            \n",
    "    key_list = list(outlier_dict.keys())\n",
    "    outlier_dfs = [outlier_dict[x] for x in key_list]\n",
    "    merged_outlier_dfs = pd.concat(outlier_dfs).reset_index(drop=True)\n",
    "    return merged_outlier_dfs\n",
    "\n",
    "combined_outliers_df = combine_outliers(fst_dict)"
   ]
  },
  {
   "cell_type": "code",
   "execution_count": null,
   "metadata": {},
   "outputs": [],
   "source": []
  },
  {
   "cell_type": "code",
   "execution_count": null,
   "metadata": {},
   "outputs": [],
   "source": [
    "def plot_by_location(combined_frame):\n",
    "    locations = ['baillif', 'capesterre', 'col_des_mammelles', 'desvariuex', 'pointe_a_pitre']\n",
    "    for i in locations:\n",
    "        loc_df = combined_frame[combined_frame['location'].str.contains(i)]\n",
    "        g = sns.lmplot(x=\"BIN_START\", y=\"pos_mean\", hue=\"location\", col=\"CHROM\", fit_reg=False,\n",
    "               data=loc_df[loc_df['CHROM']==2], aspect=10)\n",
    "\n",
    "plot_by_location(combined_outliers_df)\n"
   ]
  },
  {
   "cell_type": "code",
   "execution_count": null,
   "metadata": {},
   "outputs": [],
   "source": [
    "g = sns.lmplot(x=\"BIN_START\", y=\"pos_mean\", hue=\"outlier\", col=\"location\", fit_reg=False,\n",
    "               data=combined_outliers_df[combined_outliers_df['CHROM']==1], aspect=5)"
   ]
  },
  {
   "cell_type": "code",
   "execution_count": null,
   "metadata": {},
   "outputs": [],
   "source": [
    "for key in fst_dict:\n",
    "    g = sns.lmplot(x=\"BIN_START\", y=\"pos_mean\", hue=\"outlier\", col=\"CHROM\", fit_reg=False, \n",
    "                   data=fst_dict[key][fst_dict[key]['CHROM'] <= 6].sort_values(by=['outlier'],ascending=False),\n",
    "                   sharex=False, aspect=5)\n",
    "    g.set_titles(key)\n",
    "    g = (g.set_axis_labels(\"Genome Location\", \"Weir-Cochran_Fst\"))\n",
    "    g.savefig(data_dir + 'fst_plots/' + key + '.png')"
   ]
  },
  {
   "cell_type": "code",
   "execution_count": null,
   "metadata": {},
   "outputs": [],
   "source": [
    "for key in fst_dict:\n",
    "    stdev = np.std(fst_dict[key]['pos_mean'])\n",
    "    mean = np.mean(fst_dict[key]['pos_mean'])\n",
    "    fst_dict[key]['sdev_outlier'] = np.where(fst_dict[key]['pos_mean'] > (mean + 3*stdev), 'intermediate', 'low')\n",
    "    fst_dict[key]['sdev_outlier'] = np.where(fst_dict[key]['pos_mean'] > (mean + 5*stdev), 'high', fst_dict[key]['sdev_outlier'])\n",
    "    print(key, mean)"
   ]
  },
  {
   "cell_type": "code",
   "execution_count": null,
   "metadata": {},
   "outputs": [],
   "source": [
    "for key in fst_dict:\n",
    "    g = sns.lmplot(x=\"BIN_START\", y=\"pos_mean\", hue=\"sdev_outlier\", col=\"CHROM\", fit_reg=False, \n",
    "                   data=fst_dict[key][fst_dict[key]['CHROM'] <= 6].sort_values(by=['sdev_outlier'],ascending=False),\n",
    "                   sharex=False, aspect=4)\n",
    "    g.set_titles(key)\n",
    "    g = (g.set_axis_labels(\"Genome Location\", \"Weir-Cochran_Fst\"))\n",
    "    g.set(ylim=(0,1))\n",
    "    g.savefig(data_dir + 'fst_plots/' + key + '_sdev_outliers.png')"
   ]
  },
  {
   "cell_type": "code",
   "execution_count": null,
   "metadata": {},
   "outputs": [],
   "source": [
    "colors = ['blue', 'green', 'red']\n",
    "for key in weighted_fst_dict:\n",
    "    print(key)\n",
    "    g = sns.lmplot(x=\"BIN_START\", y=\"weighted_pos\", hue=\"sdev_outlier\", col=\"CHROM\", fit_reg=False, \n",
    "                   data=weighted_fst_dict[key][weighted_fst_dict[key]['CHROM'] <= 2].sort_values(by=['sdev_outlier'],ascending=False),\n",
    "                   sharex=False, aspect=4, palette=colors, scatter_kws={'s':4})\n",
    "    g.set_titles(key)\n",
    "    g = (g.set_axis_labels(\"Genome Location\", \"Weir-Cochran_Fst\"))\n",
    "    g.set(ylim=(0,1))\n",
    "    g.savefig(data_dir + 'fst_plots/all_100_kb_weighted_chrom1_2/' + key + '_weighted_sdev_outliers.png')"
   ]
  },
  {
   "cell_type": "code",
   "execution_count": null,
   "metadata": {},
   "outputs": [],
   "source": [
    "for key in weighted_fst_dict:\n",
    "    mean = np.mean(weighted_fst_dict[key]['weighted_pos'])\n",
    "    print(key, mean)"
   ]
  },
  {
   "cell_type": "code",
   "execution_count": null,
   "metadata": {},
   "outputs": [],
   "source": [
    "\"\"\"calculating mean fst for regions not in the outliers\"\"\"\n",
    "\"\"\"reading in bed file of outlier regions + 1mb\"\"\"\n",
    "outlier_bed = pd.read_excel(data_dir + 'annotations/full_nonredundant_outlier_bed_file_edited.xlsx',\n",
    "                           header=None, names=['CHROM', 'BIN_START', 'BIN_END']) \n",
    "\n",
    "test[(test['CHROM']==1) & (test['BIN_START'] > 100000) & (test['BIN_END'] < 10000000)]\n",
    "for index, row in outlier_bed.iterrows():\n",
    "    chrom, start, end = row[['CHROM', 'BIN_START', 'BIN_END']]\n",
    "#     print(chrom, start, end)\n",
    "\n",
    "def outlier_fst_calc(fst_dict, outlier_bed):\n",
    "    outlier_fst_dict = {}\n",
    "    neutral_fst_dict = {}\n",
    "    for key in fst_dict:\n",
    "        outlier_fst_df = pd.DataFrame(columns = ['CHROM' 'BIN_START', 'BIN_END', 'N_VARIANTS', 'WEIGHTED_FST', 'MEAN_FST',\n",
    "                                                 'weighted_pos', 'sdev_outlier', 'location'])\n",
    "#         outlier_fst_df.columns = ['CHROM' 'BIN_START', 'BIN_END', 'N_VARIANTS', 'WEIGHTED_FST', 'MEAN_FST',\n",
    "#                                   'weighted_pos', 'sdev_outlier', 'location']\n",
    "        for index, row in outlier_bed.iterrows():\n",
    "            chrom, start, end = row[['CHROM', 'BIN_START', 'BIN_END']]\n",
    "            temp_df = fst_dict[key][(fst_dict[key]['CHROM']==chrom) & \n",
    "                                    (fst_dict[key]['BIN_START'] >= start) & \n",
    "                                    (fst_dict[key]['BIN_END'] <= end)]\n",
    "#             print(temp_df)\n",
    "            outlier_fst_df = outlier_fst_df.append(temp_df)\n",
    "        outlier_fst_dict[key] = outlier_fst_df\n",
    "        index_list = outlier_fst_dict[key].index.tolist()\n",
    "        neutral_fst_dict[key] = fst_dict[key][~fst_dict[key].index.isin(index_list)]\n",
    "        \n",
    "    return outlier_fst_dict, neutral_fst_dict\n",
    "\n",
    "outlier_fst_dict, neutral_fst_dict = outlier_fst_calc(weighted_fst_dict, outlier_bed)\n"
   ]
  },
  {
   "cell_type": "code",
   "execution_count": null,
   "metadata": {},
   "outputs": [],
   "source": [
    "for key in outlier_fst_dict:\n",
    "    print(len(outlier_fst_dict[key]))\n",
    "    print(key, np.mean(outlier_fst_dict[key]['weighted_pos']))\n",
    "for key in neutral_fst_dict:\n",
    "    print(len(neutral_fst_dict[key]))\n",
    "    print(key, np.mean(neutral_fst_dict[key]['weighted_pos']))\n",
    "for key in weighted_fst_dict:\n",
    "    print(len(weighted_fst_dict[key]))\n",
    "    print(key, np.mean(weighted_fst_dict[key]['weighted_pos']))"
   ]
  },
  {
   "cell_type": "code",
   "execution_count": null,
   "metadata": {},
   "outputs": [],
   "source": []
  }
 ],
 "metadata": {
  "kernelspec": {
   "display_name": "Python 3 (ipykernel)",
   "language": "python",
   "name": "python3"
  },
  "language_info": {
   "codemirror_mode": {
    "name": "ipython",
    "version": 3
   },
   "file_extension": ".py",
   "mimetype": "text/x-python",
   "name": "python",
   "nbconvert_exporter": "python",
   "pygments_lexer": "ipython3",
   "version": "3.9.13"
  }
 },
 "nbformat": 4,
 "nbformat_minor": 2
}
